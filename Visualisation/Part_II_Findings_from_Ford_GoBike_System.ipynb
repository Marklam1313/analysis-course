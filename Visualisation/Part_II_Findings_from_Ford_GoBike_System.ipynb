{
 "cells": [
  {
   "cell_type": "markdown",
   "metadata": {
    "slideshow": {
     "slide_type": "slide"
    }
   },
   "source": [
    "# Part II - Findings from Ford GoBike System\n",
    "## by Mark Lam"
   ]
  },
  {
   "cell_type": "markdown",
   "metadata": {
    "slideshow": {
     "slide_type": "slide"
    }
   },
   "source": [
    "## Investigation Overview\n",
    "\n",
    "In this investigation, I'd like to see how long the average trip takes. How weekdays and weekends riding activities would differ. And finally the top 10 starting and ending spots during weekdays and weekends respectively.\n",
    "\n",
    "\n",
    "## Dataset Overview\n",
    "\n",
    "There are 183,412 bike trips in the dataset with 16 columns of information about each trip such as duration, start and end time, station information and user information. I have also added new columns like duration_min (in minutes), age of users, distance calculated by coordinates, start_hour from start_time, start day and weekend. Most variables regarding the trips are numeric in nature, but there are also variables about the riders."
   ]
  },
  {
   "cell_type": "code",
   "execution_count": 1,
   "metadata": {
    "slideshow": {
     "slide_type": "skip"
    }
   },
   "outputs": [
    {
     "name": "stdout",
     "output_type": "stream",
     "text": [
      "Requirement already satisfied: folium in /opt/conda/lib/python3.6/site-packages (0.12.1.post1)\n",
      "Requirement already satisfied: branca>=0.3.0 in /opt/conda/lib/python3.6/site-packages (from folium) (0.5.0)\n",
      "Requirement already satisfied: jinja2>=2.9 in /opt/conda/lib/python3.6/site-packages (from folium) (2.10)\n",
      "Requirement already satisfied: requests in /opt/conda/lib/python3.6/site-packages (from folium) (2.18.4)\n",
      "Requirement already satisfied: numpy in /opt/conda/lib/python3.6/site-packages (from folium) (1.12.1)\n",
      "Requirement already satisfied: MarkupSafe>=0.23 in /opt/conda/lib/python3.6/site-packages (from jinja2>=2.9->folium) (1.0)\n",
      "Requirement already satisfied: chardet<3.1.0,>=3.0.2 in /opt/conda/lib/python3.6/site-packages (from requests->folium) (3.0.4)\n",
      "Requirement already satisfied: idna<2.7,>=2.5 in /opt/conda/lib/python3.6/site-packages (from requests->folium) (2.6)\n",
      "Requirement already satisfied: urllib3<1.23,>=1.21.1 in /opt/conda/lib/python3.6/site-packages (from requests->folium) (1.22)\n",
      "Requirement already satisfied: certifi>=2017.4.17 in /opt/conda/lib/python3.6/site-packages (from requests->folium) (2019.11.28)\n"
     ]
    }
   ],
   "source": [
    "!pip install folium"
   ]
  },
  {
   "cell_type": "code",
   "execution_count": 2,
   "metadata": {
    "slideshow": {
     "slide_type": "skip"
    }
   },
   "outputs": [],
   "source": [
    "# import all packages and set plots to be embedded inline\n",
    "import numpy as np\n",
    "import pandas as pd\n",
    "import matplotlib.pyplot as plt\n",
    "import seaborn as sb\n",
    "import folium\n",
    "\n",
    "%matplotlib inline\n",
    "\n",
    "# suppress warnings from final output\n",
    "import warnings\n",
    "warnings.simplefilter(\"ignore\")"
   ]
  },
  {
   "cell_type": "code",
   "execution_count": 3,
   "metadata": {
    "slideshow": {
     "slide_type": "skip"
    }
   },
   "outputs": [],
   "source": [
    "# load in the dataset into a pandas dataframe\n",
    "df = pd.read_csv('201902-fordgobike-tripdata.csv')"
   ]
  },
  {
   "cell_type": "code",
   "execution_count": 4,
   "metadata": {
    "slideshow": {
     "slide_type": "skip"
    }
   },
   "outputs": [],
   "source": [
    "# to get a new column of duration in minutes\n",
    "df['duration_min'] = (df['duration_sec']/60).round(2)\n",
    "\n",
    "# to change the data type of start_time to datetime\n",
    "df['start_time'] = pd.to_datetime(df['start_time'])\n",
    "\n",
    "# to change the data type of end_time to datetime\n",
    "df['end_time'] = pd.to_datetime(df['end_time'])\n",
    "\n",
    "# to add a new column - start day of the trip\n",
    "df['start_day'] = df['start_time'].dt.day_name()\n",
    "\n",
    "# to add a new column - end day of the trip\n",
    "df['end_day'] = df['end_time'].dt.day_name()\n",
    "\n",
    "# to add a new column - age of users\n",
    "df['age'] = 2019 - df['member_birth_year']\n",
    "\n",
    "# To get the start time in hour\n",
    "df['start_hour'] = df['start_time'].apply(lambda x: x.hour)\n",
    "\n",
    "df['weekday/weekend'] = df.apply(lambda x: 'weekday' if x['start_day'] in ['Monday', 'Tuesday', 'Wednesday', 'Thursday', 'Friday'] else 'weekend', axis = 1)"
   ]
  },
  {
   "cell_type": "code",
   "execution_count": 5,
   "metadata": {
    "slideshow": {
     "slide_type": "skip"
    }
   },
   "outputs": [],
   "source": [
    "# to get a dataframe contains only information we are interested\n",
    "stops = df[['start_station_id', 'start_station_latitude', 'start_station_longitude', 'end_station_id', 'end_station_latitude', 'end_station_longitude','start_day']]\n",
    "\n",
    "# to get a dataframe that contains only information about weekdays\n",
    "stops_weekday = stops.query('start_day != \"Saturday\" and start_day != \"Sunday\"')\n",
    "\n",
    "# to get the top 10 starting spots on weekday\n",
    "index_start_weekday = stops_weekday['start_station_id'].value_counts().index[:10]\n",
    "\n",
    "top_start_weekday = stops_weekday[stops_weekday['start_station_id'].isin(index_start_weekday)]\n",
    "\n",
    "# to drop the duplicates as we only need the coordinates of the station spots\n",
    "top_start_weekday = top_start_weekday.drop_duplicates(subset = ['start_station_id'])\n",
    "\n",
    "# to get the top 10 ending spots on weekday\n",
    "index_end_weekday = stops_weekday['end_station_id'].value_counts().index[:10]\n",
    "\n",
    "top_end_weekday = stops_weekday[stops_weekday['end_station_id'].isin(index_end_weekday)]\n",
    "\n",
    "# to drop the duplicates as we only need the coordinates of the station spots\n",
    "top_end_weekday = top_end_weekday.drop_duplicates(subset = ['end_station_id'])\n",
    "\n",
    "# to get a dataframe that contains only information about weekend\n",
    "stops_weekend = stops.query('start_day == \"Saturday\" or start_day == \"Sunday\"')\n",
    "\n",
    "# to get the top 10 starting spots on weekend\n",
    "index_start_weekend = stops_weekend['start_station_id'].value_counts().index[:10]\n",
    "\n",
    "top_start_weekend = stops_weekend[stops_weekend['start_station_id'].isin(index_start_weekend)]\n",
    "\n",
    "# to drop the duplicates as we only need the coordinates of the station spots\n",
    "top_start_weekend = top_start_weekend.drop_duplicates(subset = ['start_station_id'])\n",
    "\n",
    "# to get the top 10 ending spots on weekend\n",
    "index_end_weekend = stops_weekend['end_station_id'].value_counts().index[:10]\n",
    "\n",
    "top_end_weekend = stops_weekend[stops_weekend['end_station_id'].isin(index_end_weekend)]\n",
    "\n",
    "# to drop the duplicates as we only need the coordinates of the station spots\n",
    "top_end_weekend = top_end_weekend.drop_duplicates(subset = ['end_station_id'])"
   ]
  },
  {
   "cell_type": "markdown",
   "metadata": {
    "slideshow": {
     "slide_type": "slide"
    }
   },
   "source": [
    "## Distribution of Trip Duration\n",
    "\n",
    "The duration from the dataset take on a large range of values, from 1 minute to 1424 minutes. Plotting on a logarithmic scale, the distribution of duration takes on a unimodal shape, with one peak between 5 to 15 minutes."
   ]
  },
  {
   "cell_type": "code",
   "execution_count": 6,
   "metadata": {
    "slideshow": {
     "slide_type": "slide"
    }
   },
   "outputs": [
    {
     "data": {
      "image/png": "[encoded data removed]",
      "text/plain": [
       "<matplotlib.figure.Figure at 0x7f86f86820b8>"
      ]
     },
     "metadata": {
      "needs_background": "light"
     },
     "output_type": "display_data"
    }
   ],
   "source": [
    "log_binsize = 0.05\n",
    "bins = 10 ** np.arange(0, np.log10(df['duration_min'].max())+log_binsize, log_binsize)\n",
    "\n",
    "plt.figure(figsize = [8, 5])\n",
    "plt.hist(data = df, x = 'duration_min', bins = bins)\n",
    "plt.title('Distribution of Trip Duration')\n",
    "plt.xscale('log')\n",
    "plt.xticks([3, 5, 10, 30, 60, 120, 240], [3, 5, 10, 30, 60, 120, 240])\n",
    "plt.xlabel('Duration (min)')\n",
    "plt.show()"
   ]
  },
  {
   "cell_type": "markdown",
   "metadata": {
    "collapsed": true,
    "slideshow": {
     "slide_type": "slide"
    }
   },
   "source": [
    "## Distribution of Start Hour on Weekdays and Weekends\n",
    "\n",
    "For weekdays, let's say the busy hours are 6am to 8am and 4pm to 7pm. There are two peaks during these two periods. But for weekend, the busy hours only start from 10am until 6pm. There is only one peak, with much less activity throughout the day compared with weekdays."
   ]
  },
  {
   "cell_type": "code",
   "execution_count": 7,
   "metadata": {
    "slideshow": {
     "slide_type": "slide"
    }
   },
   "outputs": [
    {
     "data": {
      "image/png": "[encoded data removed]",
      "text/plain": [
       "<matplotlib.figure.Figure at 0x7f86f5997c88>"
      ]
     },
     "metadata": {
      "needs_background": "light"
     },
     "output_type": "display_data"
    }
   ],
   "source": [
    "plt.figure(figsize = [12, 8])\n",
    "\n",
    "sb.countplot(data = df, x = 'start_hour', hue = 'weekday/weekend', palette = 'Blues')\n",
    "plt.title('Distribution of Start Hour on Weekdays and Weekends')\n",
    "plt.xlabel('Start Hour');"
   ]
  },
  {
   "cell_type": "markdown",
   "metadata": {
    "slideshow": {
     "slide_type": "slide"
    }
   },
   "source": [
    "## Distribution of Top 10 Starting and Ending Spots on Weekdays\n",
    "\n",
    "During the weekdays, the top 10 spots would be centred around the San Francisco downton. There are some overlapping spots when we consider the top 10 starting and ending spots."
   ]
  },
  {
   "cell_type": "code",
   "execution_count": 8,
   "metadata": {
    "scrolled": false,
    "slideshow": {
     "slide_type": "slide"
    }
   },
   "outputs": [
    {
     "data": {
      "text/html": [
       "<div style=\"width:100%;\"><div style=\"position:relative;width:100%;height:0;padding-bottom:60%;\"><span style=\"color:#565656\">Make this Notebook Trusted to load map: File -> Trust Notebook</span><iframe srcdoc=\"&lt;!DOCTYPE html&gt;\n",
       "&lt;head&gt;    \n",
       "    &lt;meta http-equiv=&quot;content-type&quot; content=&quot;text/html; charset=UTF-8&quot; /&gt;\n",
       "    \n",
       "        &lt;script&gt;\n",
       "            L_NO_TOUCH = false;\n",
       "            L_DISABLE_3D = false;\n",
       "        &lt;/script&gt;\n",
       "    \n",
       "    &lt;style&gt;html, body {width: 100%;height: 100%;margin: 0;padding: 0;}&lt;/style&gt;\n",
       "    &lt;style&gt;#map {position:absolute;top:0;bottom:0;right:0;left:0;}&lt;/style&gt;\n",
       "    &lt;script src=&quot;https://cdn.jsdelivr.net/npm/leaflet@1.6.0/dist/leaflet.js&quot;&gt;&lt;/script&gt;\n",
       "    &lt;script src=&quot;https://code.jquery.com/jquery-1.12.4.min.js&quot;&gt;&lt;/script&gt;\n",
       "    &lt;script src=&quot;https://maxcdn.bootstrapcdn.com/bootstrap/3.2.0/js/bootstrap.min.js&quot;&gt;&lt;/script&gt;\n",
       "    &lt;script src=&quot;https://cdnjs.cloudflare.com/ajax/libs/Leaflet.awesome-markers/2.0.2/leaflet.awesome-markers.js&quot;&gt;&lt;/script&gt;\n",
       "    &lt;link rel=&quot;stylesheet&quot; href=&quot;https://cdn.jsdelivr.net/npm/leaflet@1.6.0/dist/leaflet.css&quot;/&gt;\n",
       "    &lt;link rel=&quot;stylesheet&quot; href=&quot;https://maxcdn.bootstrapcdn.com/bootstrap/3.2.0/css/bootstrap.min.css&quot;/&gt;\n",
       "    &lt;link rel=&quot;stylesheet&quot; href=&quot;https://maxcdn.bootstrapcdn.com/bootstrap/3.2.0/css/bootstrap-theme.min.css&quot;/&gt;\n",
       "    &lt;link rel=&quot;stylesheet&quot; href=&quot;https://maxcdn.bootstrapcdn.com/font-awesome/4.6.3/css/font-awesome.min.css&quot;/&gt;\n",
       "    &lt;link rel=&quot;stylesheet&quot; href=&quot;https://cdnjs.cloudflare.com/ajax/libs/Leaflet.awesome-markers/2.0.2/leaflet.awesome-markers.css&quot;/&gt;\n",
       "    &lt;link rel=&quot;stylesheet&quot; href=&quot;https://cdn.jsdelivr.net/gh/python-visualization/folium/folium/templates/leaflet.awesome.rotate.min.css&quot;/&gt;\n",
       "    \n",
       "            &lt;meta name=&quot;viewport&quot; content=&quot;width=device-width,\n",
       "                initial-scale=1.0, maximum-scale=1.0, user-scalable=no&quot; /&gt;\n",
       "            &lt;style&gt;\n",
       "                #map_2123507db68200fa7f609d34c1929f05 {\n",
       "                    position: relative;\n",
       "                    width: 100.0%;\n",
       "                    height: 100.0%;\n",
       "                    left: 0.0%;\n",
       "                    top: 0.0%;\n",
       "                }\n",
       "            &lt;/style&gt;\n",
       "        \n",
       "&lt;/head&gt;\n",
       "&lt;body&gt;    \n",
       "    \n",
       "            &lt;div class=&quot;folium-map&quot; id=&quot;map_2123507db68200fa7f609d34c1929f05&quot; &gt;&lt;/div&gt;\n",
       "        \n",
       "&lt;/body&gt;\n",
       "&lt;script&gt;    \n",
       "    \n",
       "            var map_2123507db68200fa7f609d34c1929f05 = L.map(\n",
       "                &quot;map_2123507db68200fa7f609d34c1929f05&quot;,\n",
       "                {\n",
       "                    center: [37.78449142257008, -122.3998799546979],\n",
       "                    crs: L.CRS.EPSG3857,\n",
       "                    zoom: 12,\n",
       "                    zoomControl: true,\n",
       "                    preferCanvas: false,\n",
       "                }\n",
       "            );\n",
       "            L.control.scale().addTo(map_2123507db68200fa7f609d34c1929f05);\n",
       "\n",
       "            \n",
       "\n",
       "        \n",
       "    \n",
       "            var tile_layer_314758f5d258661905fa6efd5498e770 = L.tileLayer(\n",
       "                &quot;https://{s}.tile.openstreetmap.org/{z}/{x}/{y}.png&quot;,\n",
       "                {&quot;attribution&quot;: &quot;Data by \\u0026copy; \\u003ca href=\\&quot;http://openstreetmap.org\\&quot;\\u003eOpenStreetMap\\u003c/a\\u003e, under \\u003ca href=\\&quot;http://www.openstreetmap.org/copyright\\&quot;\\u003eODbL\\u003c/a\\u003e.&quot;, &quot;detectRetina&quot;: false, &quot;maxNativeZoom&quot;: 18, &quot;maxZoom&quot;: 18, &quot;minZoom&quot;: 0, &quot;noWrap&quot;: false, &quot;opacity&quot;: 1, &quot;subdomains&quot;: &quot;abc&quot;, &quot;tms&quot;: false}\n",
       "            ).addTo(map_2123507db68200fa7f609d34c1929f05);\n",
       "        \n",
       "    \n",
       "            var marker_6c1f0aae9b0bc8fb8b4e53e70ab7937e = L.marker(\n",
       "                [37.7896254, -122.400811],\n",
       "                {}\n",
       "            ).addTo(map_2123507db68200fa7f609d34c1929f05);\n",
       "        \n",
       "    \n",
       "            var marker_7b8c4374480ca09f611bcad43a43f384 = L.marker(\n",
       "                [37.776619000000004, -122.41738500000001],\n",
       "                {}\n",
       "            ).addTo(map_2123507db68200fa7f609d34c1929f05);\n",
       "        \n",
       "    \n",
       "            var marker_df5ac9284642f0f1933088f91cb873b5 = L.marker(\n",
       "                [37.795392, -122.394203],\n",
       "                {}\n",
       "            ).addTo(map_2123507db68200fa7f609d34c1929f05);\n",
       "        \n",
       "    \n",
       "            var marker_7be87f4dd7b6182663711eca321efc56 = L.marker(\n",
       "                [37.776598, -122.39528200000001],\n",
       "                {}\n",
       "            ).addTo(map_2123507db68200fa7f609d34c1929f05);\n",
       "        \n",
       "    \n",
       "            var marker_f71202ce2ff25953fbe004e2d08cae14 = L.marker(\n",
       "                [37.776639200000005, -122.3955263],\n",
       "                {}\n",
       "            ).addTo(map_2123507db68200fa7f609d34c1929f05);\n",
       "        \n",
       "    \n",
       "            var marker_d560de8e09c1c1500759dbbb70930762 = L.marker(\n",
       "                [37.78389935708493, -122.40844488143921],\n",
       "                {}\n",
       "            ).addTo(map_2123507db68200fa7f609d34c1929f05);\n",
       "        \n",
       "    \n",
       "            var marker_573d0d6f18bba59a9cfb5fc5beea71f8 = L.marker(\n",
       "                [37.794129999999996, -122.39443],\n",
       "                {}\n",
       "            ).addTo(map_2123507db68200fa7f609d34c1929f05);\n",
       "        \n",
       "    \n",
       "            var marker_f5cf2527df48909bfd6c5546ec20d501 = L.marker(\n",
       "                [37.78637526861584, -122.40490436553955],\n",
       "                {}\n",
       "            ).addTo(map_2123507db68200fa7f609d34c1929f05);\n",
       "        \n",
       "    \n",
       "            var marker_8a3df05a19730ff8acbf8ff67cae4ea4 = L.marker(\n",
       "                [37.789756, -122.39464299999999],\n",
       "                {}\n",
       "            ).addTo(map_2123507db68200fa7f609d34c1929f05);\n",
       "        \n",
       "    \n",
       "            var marker_b4389adc4aa89d7e91a8d9551f054d8a = L.marker(\n",
       "                [37.77588, -122.39317],\n",
       "                {}\n",
       "            ).addTo(map_2123507db68200fa7f609d34c1929f05);\n",
       "        \n",
       "    \n",
       "            var marker_750575690b07777e52068b061960feb1 = L.marker(\n",
       "                [37.77588, -122.39317],\n",
       "                {}\n",
       "            ).addTo(map_2123507db68200fa7f609d34c1929f05);\n",
       "        \n",
       "    \n",
       "            var marker_f331e5a83eb0753b31c8949a20e294fe = L.marker(\n",
       "                [37.78637526861584, -122.40490436553955],\n",
       "                {}\n",
       "            ).addTo(map_2123507db68200fa7f609d34c1929f05);\n",
       "        \n",
       "    \n",
       "            var marker_34c5d7dabe506416b61f2d9d8fa47ec8 = L.marker(\n",
       "                [37.795392, -122.394203],\n",
       "                {}\n",
       "            ).addTo(map_2123507db68200fa7f609d34c1929f05);\n",
       "        \n",
       "    \n",
       "            var marker_2d934a7daacf713608bce8c9a64b2edc = L.marker(\n",
       "                [37.776619000000004, -122.41738500000001],\n",
       "                {}\n",
       "            ).addTo(map_2123507db68200fa7f609d34c1929f05);\n",
       "        \n",
       "    \n",
       "            var marker_c622210ac85c4b18f62e50171d860f08 = L.marker(\n",
       "                [37.776639200000005, -122.3955263],\n",
       "                {}\n",
       "            ).addTo(map_2123507db68200fa7f609d34c1929f05);\n",
       "        \n",
       "    \n",
       "            var marker_207abf5da23934c8e4e392dffa2cc6d3 = L.marker(\n",
       "                [37.7896254, -122.400811],\n",
       "                {}\n",
       "            ).addTo(map_2123507db68200fa7f609d34c1929f05);\n",
       "        \n",
       "    \n",
       "            var marker_90db25c5cc082cf92a0d026c8a699232 = L.marker(\n",
       "                [37.794129999999996, -122.39443],\n",
       "                {}\n",
       "            ).addTo(map_2123507db68200fa7f609d34c1929f05);\n",
       "        \n",
       "    \n",
       "            var marker_490184297ad7b166d8a97b798ca1e7c9 = L.marker(\n",
       "                [37.80477, -122.40323400000001],\n",
       "                {}\n",
       "            ).addTo(map_2123507db68200fa7f609d34c1929f05);\n",
       "        \n",
       "    \n",
       "            var marker_97eeeec42c50bd8edebea6d59c141ced = L.marker(\n",
       "                [37.78389935708493, -122.40844488143921],\n",
       "                {}\n",
       "            ).addTo(map_2123507db68200fa7f609d34c1929f05);\n",
       "        \n",
       "    \n",
       "            var marker_3e63d598c7cad551374d23e038abbd55 = L.marker(\n",
       "                [37.776598, -122.39528200000001],\n",
       "                {}\n",
       "            ).addTo(map_2123507db68200fa7f609d34c1929f05);\n",
       "        \n",
       "&lt;/script&gt;\" style=\"position:absolute;width:100%;height:100%;left:0;top:0;border:none !important;\" allowfullscreen webkitallowfullscreen mozallowfullscreen></iframe></div></div>"
      ],
      "text/plain": [
       "<folium.folium.Map at 0x7f86f7c61a58>"
      ]
     },
     "execution_count": 8,
     "metadata": {},
     "output_type": "execute_result"
    }
   ],
   "source": [
    "# to create a map for weekday top spots\n",
    "sfmap_weekday = folium.Map(location = [top_start_weekday['start_station_latitude'].mean(), top_start_weekday['start_station_longitude'].mean()], zoom_start = 12, control_scale = True)\n",
    "\n",
    "# to mark the top 10 starting spots on weekdays\n",
    "for i, v in top_start_weekday.iterrows():\n",
    "    folium.Marker(location = [v['start_station_latitude'], v['start_station_longitude']]).add_to(sfmap_weekday)\n",
    "    \n",
    "# to mark the top 10 ending spots on weekdays\n",
    "for i, v in top_end_weekday.iterrows():\n",
    "    folium.Marker(location = [v['end_station_latitude'], v['end_station_longitude']]).add_to(sfmap_weekday)\n",
    "    \n",
    "# this is the top 10 starting and top 10 ending bike trip spots on weekdays.\n",
    "sfmap_weekday"
   ]
  },
  {
   "cell_type": "markdown",
   "metadata": {
    "slideshow": {
     "slide_type": "slide"
    }
   },
   "source": [
    "## Distribution of Top 10 Starting and Ending Spots on Weekends\n",
    "The top 10 starting and ending spots are slightly more spreaded for weekends than weekdays. Again there are some overlapping spots when we consider the top 10 starting and ending spots."
   ]
  },
  {
   "cell_type": "code",
   "execution_count": 9,
   "metadata": {
    "slideshow": {
     "slide_type": "slide"
    }
   },
   "outputs": [
    {
     "data": {
      "text/html": [
       "<div style=\"width:100%;\"><div style=\"position:relative;width:100%;height:0;padding-bottom:60%;\"><span style=\"color:#565656\">Make this Notebook Trusted to load map: File -> Trust Notebook</span><iframe srcdoc=\"&lt;!DOCTYPE html&gt;\n",
       "&lt;head&gt;    \n",
       "    &lt;meta http-equiv=&quot;content-type&quot; content=&quot;text/html; charset=UTF-8&quot; /&gt;\n",
       "    \n",
       "        &lt;script&gt;\n",
       "            L_NO_TOUCH = false;\n",
       "            L_DISABLE_3D = false;\n",
       "        &lt;/script&gt;\n",
       "    \n",
       "    &lt;style&gt;html, body {width: 100%;height: 100%;margin: 0;padding: 0;}&lt;/style&gt;\n",
       "    &lt;style&gt;#map {position:absolute;top:0;bottom:0;right:0;left:0;}&lt;/style&gt;\n",
       "    &lt;script src=&quot;https://cdn.jsdelivr.net/npm/leaflet@1.6.0/dist/leaflet.js&quot;&gt;&lt;/script&gt;\n",
       "    &lt;script src=&quot;https://code.jquery.com/jquery-1.12.4.min.js&quot;&gt;&lt;/script&gt;\n",
       "    &lt;script src=&quot;https://maxcdn.bootstrapcdn.com/bootstrap/3.2.0/js/bootstrap.min.js&quot;&gt;&lt;/script&gt;\n",
       "    &lt;script src=&quot;https://cdnjs.cloudflare.com/ajax/libs/Leaflet.awesome-markers/2.0.2/leaflet.awesome-markers.js&quot;&gt;&lt;/script&gt;\n",
       "    &lt;link rel=&quot;stylesheet&quot; href=&quot;https://cdn.jsdelivr.net/npm/leaflet@1.6.0/dist/leaflet.css&quot;/&gt;\n",
       "    &lt;link rel=&quot;stylesheet&quot; href=&quot;https://maxcdn.bootstrapcdn.com/bootstrap/3.2.0/css/bootstrap.min.css&quot;/&gt;\n",
       "    &lt;link rel=&quot;stylesheet&quot; href=&quot;https://maxcdn.bootstrapcdn.com/bootstrap/3.2.0/css/bootstrap-theme.min.css&quot;/&gt;\n",
       "    &lt;link rel=&quot;stylesheet&quot; href=&quot;https://maxcdn.bootstrapcdn.com/font-awesome/4.6.3/css/font-awesome.min.css&quot;/&gt;\n",
       "    &lt;link rel=&quot;stylesheet&quot; href=&quot;https://cdnjs.cloudflare.com/ajax/libs/Leaflet.awesome-markers/2.0.2/leaflet.awesome-markers.css&quot;/&gt;\n",
       "    &lt;link rel=&quot;stylesheet&quot; href=&quot;https://cdn.jsdelivr.net/gh/python-visualization/folium/folium/templates/leaflet.awesome.rotate.min.css&quot;/&gt;\n",
       "    \n",
       "            &lt;meta name=&quot;viewport&quot; content=&quot;width=device-width,\n",
       "                initial-scale=1.0, maximum-scale=1.0, user-scalable=no&quot; /&gt;\n",
       "            &lt;style&gt;\n",
       "                #map_08986974985e4c02b31f28e498a188ea {\n",
       "                    position: relative;\n",
       "                    width: 100.0%;\n",
       "                    height: 100.0%;\n",
       "                    left: 0.0%;\n",
       "                    top: 0.0%;\n",
       "                }\n",
       "            &lt;/style&gt;\n",
       "        \n",
       "&lt;/head&gt;\n",
       "&lt;body&gt;    \n",
       "    \n",
       "            &lt;div class=&quot;folium-map&quot; id=&quot;map_08986974985e4c02b31f28e498a188ea&quot; &gt;&lt;/div&gt;\n",
       "        \n",
       "&lt;/body&gt;\n",
       "&lt;script&gt;    \n",
       "    \n",
       "            var map_08986974985e4c02b31f28e498a188ea = L.map(\n",
       "                &quot;map_08986974985e4c02b31f28e498a188ea&quot;,\n",
       "                {\n",
       "                    center: [37.79231523608245, -122.40029478528292],\n",
       "                    crs: L.CRS.EPSG3857,\n",
       "                    zoom: 12,\n",
       "                    zoomControl: true,\n",
       "                    preferCanvas: false,\n",
       "                }\n",
       "            );\n",
       "            L.control.scale().addTo(map_08986974985e4c02b31f28e498a188ea);\n",
       "\n",
       "            \n",
       "\n",
       "        \n",
       "    \n",
       "            var tile_layer_4711a6a8561db74fa598d642e22eea05 = L.tileLayer(\n",
       "                &quot;https://{s}.tile.openstreetmap.org/{z}/{x}/{y}.png&quot;,\n",
       "                {&quot;attribution&quot;: &quot;Data by \\u0026copy; \\u003ca href=\\&quot;http://openstreetmap.org\\&quot;\\u003eOpenStreetMap\\u003c/a\\u003e, under \\u003ca href=\\&quot;http://www.openstreetmap.org/copyright\\&quot;\\u003eODbL\\u003c/a\\u003e.&quot;, &quot;detectRetina&quot;: false, &quot;maxNativeZoom&quot;: 18, &quot;maxZoom&quot;: 18, &quot;minZoom&quot;: 0, &quot;noWrap&quot;: false, &quot;opacity&quot;: 1, &quot;subdomains&quot;: &quot;abc&quot;, &quot;tms&quot;: false}\n",
       "            ).addTo(map_08986974985e4c02b31f28e498a188ea);\n",
       "        \n",
       "    \n",
       "            var marker_279aaf1fbbb414e9f21ed39ddf53fedc = L.marker(\n",
       "                [37.78389935708493, -122.40844488143921],\n",
       "                {}\n",
       "            ).addTo(map_08986974985e4c02b31f28e498a188ea);\n",
       "        \n",
       "    \n",
       "            var marker_ece3d5bb59d220bbd9909f792614f596 = L.marker(\n",
       "                [37.7633158, -122.4219039],\n",
       "                {}\n",
       "            ).addTo(map_08986974985e4c02b31f28e498a188ea);\n",
       "        \n",
       "    \n",
       "            var marker_b7058c9aa6e9ff97e62cd87f58004508 = L.marker(\n",
       "                [37.76930529999999, -122.4268256],\n",
       "                {}\n",
       "            ).addTo(map_08986974985e4c02b31f28e498a188ea);\n",
       "        \n",
       "    \n",
       "            var marker_6659ce1f49a5b254200a49bf8dccb954 = L.marker(\n",
       "                [37.795392, -122.394203],\n",
       "                {}\n",
       "            ).addTo(map_08986974985e4c02b31f28e498a188ea);\n",
       "        \n",
       "    \n",
       "            var marker_dc21eda508ee2d531eccc508974b2680 = L.marker(\n",
       "                [37.776619000000004, -122.41738500000001],\n",
       "                {}\n",
       "            ).addTo(map_08986974985e4c02b31f28e498a188ea);\n",
       "        \n",
       "    \n",
       "            var marker_b5be521c97e91ffd46819d003b62b121 = L.marker(\n",
       "                [37.771916882623145, -122.4537044763565],\n",
       "                {}\n",
       "            ).addTo(map_08986974985e4c02b31f28e498a188ea);\n",
       "        \n",
       "    \n",
       "            var marker_328e759629a5b0c480f0e3b75a7a88fd = L.marker(\n",
       "                [37.80274615250053, -122.41357862949371],\n",
       "                {}\n",
       "            ).addTo(map_08986974985e4c02b31f28e498a188ea);\n",
       "        \n",
       "    \n",
       "            var marker_aa906d3a3994005ecbcff24d0f381c16 = L.marker(\n",
       "                [37.8688126, -122.25876399999999],\n",
       "                {}\n",
       "            ).addTo(map_08986974985e4c02b31f28e498a188ea);\n",
       "        \n",
       "    \n",
       "            var marker_0f3dee7a549fb7e1c58fe16c83f3fbbb = L.marker(\n",
       "                [37.78637526861584, -122.40490436553955],\n",
       "                {}\n",
       "            ).addTo(map_08986974985e4c02b31f28e498a188ea);\n",
       "        \n",
       "    \n",
       "            var marker_c0aa7eda3927e9bda3f329dd880460b5 = L.marker(\n",
       "                [37.80477, -122.40323400000001],\n",
       "                {}\n",
       "            ).addTo(map_08986974985e4c02b31f28e498a188ea);\n",
       "        \n",
       "    \n",
       "            var marker_237fa456ce1b5c1cd93772079b22c289 = L.marker(\n",
       "                [37.7633158, -122.4219039],\n",
       "                {}\n",
       "            ).addTo(map_08986974985e4c02b31f28e498a188ea);\n",
       "        \n",
       "    \n",
       "            var marker_92bf3e159f84db568929e1c512313cce = L.marker(\n",
       "                [37.776619000000004, -122.41738500000001],\n",
       "                {}\n",
       "            ).addTo(map_08986974985e4c02b31f28e498a188ea);\n",
       "        \n",
       "    \n",
       "            var marker_f6ebc1486d67a6d115a145003606a6b8 = L.marker(\n",
       "                [37.80477, -122.40323400000001],\n",
       "                {}\n",
       "            ).addTo(map_08986974985e4c02b31f28e498a188ea);\n",
       "        \n",
       "    \n",
       "            var marker_0bceb8646860baf9603c3476cb785fd5 = L.marker(\n",
       "                [37.8688126, -122.25876399999999],\n",
       "                {}\n",
       "            ).addTo(map_08986974985e4c02b31f28e498a188ea);\n",
       "        \n",
       "    \n",
       "            var marker_f6086e3ea73724218cacecf395d0a956 = L.marker(\n",
       "                [37.771916882623145, -122.4537044763565],\n",
       "                {}\n",
       "            ).addTo(map_08986974985e4c02b31f28e498a188ea);\n",
       "        \n",
       "    \n",
       "            var marker_504925f6364fe01d81c324727c867ab8 = L.marker(\n",
       "                [37.78389935708493, -122.40844488143921],\n",
       "                {}\n",
       "            ).addTo(map_08986974985e4c02b31f28e498a188ea);\n",
       "        \n",
       "    \n",
       "            var marker_d48b2f69c934d81aa6997431499f12ba = L.marker(\n",
       "                [37.7810737, -122.4117382],\n",
       "                {}\n",
       "            ).addTo(map_08986974985e4c02b31f28e498a188ea);\n",
       "        \n",
       "    \n",
       "            var marker_07afd8873e36395dc3daefffc3396aa9 = L.marker(\n",
       "                [37.78637526861584, -122.40490436553955],\n",
       "                {}\n",
       "            ).addTo(map_08986974985e4c02b31f28e498a188ea);\n",
       "        \n",
       "    \n",
       "            var marker_99990f846730e274678a463f301b22a0 = L.marker(\n",
       "                [37.80274615250053, -122.41357862949371],\n",
       "                {}\n",
       "            ).addTo(map_08986974985e4c02b31f28e498a188ea);\n",
       "        \n",
       "    \n",
       "            var marker_d6b46685fdacf07b7eb70ae7b96c30e1 = L.marker(\n",
       "                [37.795392, -122.394203],\n",
       "                {}\n",
       "            ).addTo(map_08986974985e4c02b31f28e498a188ea);\n",
       "        \n",
       "&lt;/script&gt;\" style=\"position:absolute;width:100%;height:100%;left:0;top:0;border:none !important;\" allowfullscreen webkitallowfullscreen mozallowfullscreen></iframe></div></div>"
      ],
      "text/plain": [
       "<folium.folium.Map at 0x7f86ee6487b8>"
      ]
     },
     "execution_count": 9,
     "metadata": {},
     "output_type": "execute_result"
    }
   ],
   "source": [
    "# to create a map for weekend top spots\n",
    "sfmap_weekend = folium.Map(location = [top_start_weekend['start_station_latitude'].mean(), top_start_weekend['start_station_longitude'].mean()], zoom_start = 12, control_scale = True)\n",
    "\n",
    "# to mark the top 10 starting spots on weekends\n",
    "for i, v in top_start_weekend.iterrows():\n",
    "    folium.Marker(location = [v['start_station_latitude'], v['start_station_longitude']]).add_to(sfmap_weekend)\n",
    "    \n",
    "# to mark the top 10 ending spots on weekends\n",
    "for i, v in top_end_weekend.iterrows():\n",
    "    folium.Marker(location = [v['end_station_latitude'], v['end_station_longitude']]).add_to(sfmap_weekend)\n",
    "    \n",
    "# this is the top 10 starting and top 10 ending bike trip spots on weekends.\n",
    "sfmap_weekend"
   ]
  },
  {
   "cell_type": "code",
   "execution_count": 10,
   "metadata": {
    "slideshow": {
     "slide_type": "notes"
    }
   },
   "outputs": [
    {
     "name": "stdout",
     "output_type": "stream",
     "text": [
      "[NbConvertApp] Converting notebook Part_II_Findings_from_Ford_GoBike_System.ipynb to slides\n",
      "[NbConvertApp] Writing 336481 bytes to Part_II_Findings_from_Ford_GoBike_System.slides.html\n"
     ]
    }
   ],
   "source": [
    "!jupyter nbconvert Part_II_Findings_from_Ford_GoBike_System.ipynb --to slides --no-input --no-prompt "
   ]
  },
  {
   "cell_type": "markdown",
   "metadata": {
    "slideshow": {
     "slide_type": "skip"
    }
   },
   "source": [
    "> In the classroom workspace, the generated HTML slideshow will be placed in the home folder. \n",
    "\n",
    "> In local machines, the command above should open a tab in your web browser where you can scroll through your presentation. Sub-slides can be accessed by pressing 'down' when viewing its parent slide. Make sure you remove all of the quote-formatted guide notes like this one before you finish your presentation! At last, you can stop the Kernel. "
   ]
  },
  {
   "cell_type": "markdown",
   "metadata": {
    "slideshow": {
     "slide_type": "notes"
    }
   },
   "source": [
    "### Submission\n",
    "If you are using classroom workspace, you can choose from the following two ways of submission:\n",
    "\n",
    "1. **Submit from the workspace**. Make sure you have removed the example project from the /home/workspace directory. You must submit the following files:\n",
    "   - Part_I_notebook.ipynb\n",
    "   - Part_I_notebook.html or pdf\n",
    "   - Part_II_notebook.ipynb\n",
    "   - Part_I_slides.html\n",
    "   - README.md\n",
    "   - dataset (optional)\n",
    "\n",
    "\n",
    "2. **Submit a zip file on the last page of this project lesson**. In this case, open the Jupyter terminal and run the command below to generate a ZIP file. \n",
    "```bash\n",
    "zip -r my_project.zip .\n",
    "```\n",
    "The command abobve will ZIP every file present in your /home/workspace directory. Next, you can download the zip to your local, and follow the instructions on the last page of this project lesson.\n"
   ]
  }
 ],
 "metadata": {
  "celltoolbar": "Slideshow",
  "kernelspec": {
   "display_name": "Python 3",
   "language": "python",
   "name": "python3"
  },
  "language_info": {
   "codemirror_mode": {
    "name": "ipython",
    "version": 3
   },
   "file_extension": ".py",
   "mimetype": "text/x-python",
   "name": "python",
   "nbconvert_exporter": "python",
   "pygments_lexer": "ipython3",
   "version": "3.6.3"
  }
 },
 "nbformat": 4,
 "nbformat_minor": 2
}
